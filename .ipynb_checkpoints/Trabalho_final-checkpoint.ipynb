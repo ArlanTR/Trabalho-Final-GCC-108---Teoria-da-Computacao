{
 "cells": [
  {
   "cell_type": "markdown",
   "id": "825179cc",
   "metadata": {},
   "source": [
    "# Trabalho Final GCC-108 - Teoria da Computação\n"
   ]
  },
  {
   "cell_type": "markdown",
   "id": "6b3e0e50",
   "metadata": {},
   "source": [
    "Alunos: Arlan da Silva Trindade Matricula: 201920353\n",
    "        Arthur Eduardo Silva    Matricula: 201920336\n",
    "        \n",
    "Link do Git: https://github.com/ArlanTR/Trabalho-Final-GCC-108---Teoria-da-Computa-o\n",
    "        "
   ]
  },
  {
   "cell_type": "code",
   "execution_count": null,
   "id": "262193ce",
   "metadata": {},
   "outputs": [],
   "source": []
  },
  {
   "cell_type": "code",
   "execution_count": null,
   "id": "fb6fa9e0",
   "metadata": {},
   "outputs": [],
   "source": []
  }
 ],
 "metadata": {
  "kernelspec": {
   "display_name": "Python 3 (ipykernel)",
   "language": "python",
   "name": "python3"
  },
  "language_info": {
   "codemirror_mode": {
    "name": "ipython",
    "version": 3
   },
   "file_extension": ".py",
   "mimetype": "text/x-python",
   "name": "python",
   "nbconvert_exporter": "python",
   "pygments_lexer": "ipython3",
   "version": "3.9.7"
  }
 },
 "nbformat": 4,
 "nbformat_minor": 5
}
