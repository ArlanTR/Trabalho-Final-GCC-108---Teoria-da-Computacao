{
 "cells": [
  {
   "cell_type": "markdown",
   "id": "825179cc",
   "metadata": {},
   "source": [
    "# Trabalho Final GCC-108 - Teoria da Computação\n"
   ]
  },
  {
   "cell_type": "markdown",
   "id": "6b3e0e50",
   "metadata": {},
   "source": [
    "Alunos: Arlan da Silva Trindade Matricula: 201920353\n",
    "        Arthur Eduardo Silva    Matricula: 201920336\n",
    "        \n",
    "Link do Git: https://github.com/ArlanTR/Trabalho-Final-GCC-108---Teoria-da-Computa-o\n",
    "        "
   ]
  },
  {
   "cell_type": "markdown",
   "id": "801ff8c7",
   "metadata": {},
   "source": [
    "Questão 1\n",
    "Explicação:"
   ]
  },
  {
   "cell_type": "markdown",
   "id": "2c77aee7",
   "metadata": {},
   "source": [
    "Questão 2\n",
    "Print da Máquina\n"
   ]
  },
  {
   "cell_type": "markdown",
   "id": "1d435dab",
   "metadata": {},
   "source": [
    "Questão 3"
   ]
  },
  {
   "cell_type": "markdown",
   "id": "d5de62c7",
   "metadata": {},
   "source": [
    "Questão 4"
   ]
  },
  {
   "cell_type": "markdown",
   "id": "7b658836",
   "metadata": {},
   "source": [
    "Questão 5"
   ]
  },
  {
   "cell_type": "markdown",
   "id": "b1686e8e",
   "metadata": {},
   "source": [
    "Questão 6"
   ]
  }
 ],
 "metadata": {
  "kernelspec": {
   "display_name": "Python 3 (ipykernel)",
   "language": "python",
   "name": "python3"
  },
  "language_info": {
   "codemirror_mode": {
    "name": "ipython",
    "version": 3
   },
   "file_extension": ".py",
   "mimetype": "text/x-python",
   "name": "python",
   "nbconvert_exporter": "python",
   "pygments_lexer": "ipython3",
   "version": "3.9.7"
  }
 },
 "nbformat": 4,
 "nbformat_minor": 5
}
