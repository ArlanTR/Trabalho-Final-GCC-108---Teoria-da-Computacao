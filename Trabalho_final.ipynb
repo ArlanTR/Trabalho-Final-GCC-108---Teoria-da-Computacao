{
 "cells": [
  {
   "cell_type": "markdown",
   "id": "825179cc",
   "metadata": {},
   "source": [
    "# Trabalho Final GCC-108 - Teoria da Computação\n"
   ]
  },
  {
   "cell_type": "markdown",
   "id": "9719ca0f",
   "metadata": {},
   "source": [
    "Alunos: Arlan da Silva Trindade Matricula: 201920353 <br>\n",
    "        Arthur Eduardo Silva    Matricula: 201920336\n",
    "        \n",
    "Link do repositório: [GitHub](https://github.com/ArlanTR/Trabalho-Final-GCC-108---Teoria-da-Computa-o)\n",
    "        "
   ]
  },
  {
   "cell_type": "markdown",
   "id": "d7a15859",
   "metadata": {},
   "source": [
    "Questão 1\n",
    "Explicação: A nossa ideia foi converter os valores de binários para unários antes de dar entrada com os dados na máquina, e depois usar uma máquina de turing que faz a função númerica de soma para somar os dois números e depois converter de volta para binário.<br>\n",
    "exemplo de entrada: 1111011111"
   ]
  },
  {
   "attachments": {
    "Maquina.png": {
     "image/png": "[encoded data removed]"
    }
   },
   "cell_type": "markdown",
   "id": "6f2f1a85",
   "metadata": {},
   "source": [
    "![Maquina.png](attachment:Maquina.png)"
   ]
  },
  {
   "cell_type": "markdown",
   "id": "676e2754",
   "metadata": {},
   "source": [
    "Questão 3<br>\n",
    "Q = conjunto de estados (padrão q[0-5]+)<br>\n",
    "\n",
    "Σ = {0,1}<br>\n",
    "\n",
    "Γ = {B,0,1}<br>\n",
    "\n",
    "δ = função de transição no formato (q_i,x)→(q_j,y,D); assim, estando no estado q_i, lendo x, vai para o estado q_j, escreve y e movimenta na direção de D. D será L para esquerda ou R para direita.<br>\n",
    "δ(q0,B)→(q1,B,R);<br>\n",
    "δ(q1,0)→(q2,1,R);<br>\n",
    "δ(q1,1)→(q1,1,R);<br>\n",
    "δ(q2,B)→(q3,B,L);<br>\n",
    "δ(q2,1)→(q2,1,R);<br>\n",
    "δ(q3,1)→(q4,B,L);<br>\n",
    "δ(q4,1)→(q5,B,L);<br>\n",
    "δ(q5,1)→(q5,1,L);<br>\n",
    "\n",
    "q_0 = estado inicial"
   ]
  },
  {
   "cell_type": "markdown",
   "id": "aa3724ea",
   "metadata": {},
   "source": [
    "Questão 4\n",
    "Transição             Encoding            <br>\n",
    "δ(q0,B)→(q1,B,R);  101110110111011        <br>\n",
    "δ(q1,0)→(q2,1,R);  11010111011011         <br>\n",
    "δ(q1,1)→(q1,1,R);  11011011011011         <br>\n",
    "δ(q2,B)→(q3,B,L);  111011101111011101     <br>\n",
    "δ(q2,1)→(q2,1,R);  1110110111011011       <br>\n",
    "δ(q3,1)→(q4,B,L);  1111011011111011101    <br>\n",
    "δ(q4,1)→(q5,B,L);  111110110111111011101  <br>\n",
    "δ(q5,1)→(q5,1,L);  111111011011111101101  <br>\n",
    "\n",
    "M em R(M) = 00010111011011101100110101110110110011011011011011001110111011110111010011101101110110110011110110111110111010011111011011111101110100111111011011111101101000"
   ]
  },
  {
   "cell_type": "markdown",
   "id": "fc285d46",
   "metadata": {},
   "source": [
    "Questão 5"
   ]
  },
  {
   "cell_type": "code",
   "execution_count": 6,
   "id": "250df7d5",
   "metadata": {
    "scrolled": true
   },
   "outputs": [
    {
     "name": "stdout",
     "output_type": "stream",
     "text": [
      "1100\n"
     ]
    }
   ],
   "source": [
    "import pandas as pd\n",
    "entrada = pd.read_csv('exemplo1.csv')\n",
    "for row in entrada:\n",
    "    dado = row\n",
    "dado = list(dado.split(';'))\n",
    "maquina = \"00010111011011101100110101110110110011011011011011001110111011110111010011101101110110110011110110111110111010011111011011111101110100111111011011111101101000\"\n",
    "def conversordeDecParaUN(decimal):\n",
    "    resultado = \"1\"\n",
    "    for i in range (decimal):\n",
    "        resultado = resultado +\"1\"\n",
    "    return resultado\n",
    "def conversordeUNParaDec(unario):\n",
    "    resultado = -1\n",
    "    for i in range (len(unario)):\n",
    "        resultado = resultado + 1\n",
    "    return resultado\n",
    "entradaUnaria = \"\"+ conversordeDecParaUN(int(dado[0],2))\n",
    "entradaUnaria = entradaUnaria+ \"0\" +conversordeDecParaUN(int(dado[1],2)) \n",
    "maquinaMaisEntrada = maquina + entradaUnaria\n",
    "separador = maquinaMaisEntrada.split(\"000\")\n",
    "#fita 1 configurações\n",
    "fita1 = separador[1].split(\"00\")\n",
    " #fita 2 entrada\n",
    "fita2 = list(separador[2]+\"B\")\n",
    "#fita 3 saida\n",
    "\n",
    "def MTU():\n",
    "    fita3 = list(\"\")\n",
    "    i=0\n",
    "    estado = 0\n",
    "    proximoestado = 0\n",
    "    while i != -1:\n",
    "        instrucao = list()\n",
    "        # dividir a instrução\n",
    "        k = 0\n",
    "        #checar se o estado não é o estado inicial\n",
    "        while k < len(fita1):\n",
    "            instrucao = list(fita1[k].split(\"0\"))\n",
    "            if int(tradutorEstado(instrucao[0])) == estado:\n",
    "                k = (len(fita1))\n",
    "            k = k +1\n",
    "        #verificação estado inicial transição vazia \n",
    "        if instrucao[0] != \"1\":\n",
    "            #for para pegar todas as instruções pertencentes ao mesmo estado\n",
    "            for j in range (len(fita1)):\n",
    "                instrucaoDaFita = fita1[j].split(\"0\")\n",
    "                if tradutorEstado(instrucaoDaFita[0]) == estado:\n",
    "                    # depois de ter pegados os estados checar se o valor da transição esta na fita2\n",
    "                    if fita2[i] == tradutorValor(instrucaoDaFita[1]):\n",
    "                        #se estiver pegar o estado, e fazer as devidas operações de escrita e movimentação left ou right\n",
    "                        estado = tradutorEstado(instrucaoDaFita[2])\n",
    "                        if instrucaoDaFita[3] == \"11\":\n",
    "                            fita2[i] = \"1\"\n",
    "                            if instrucaoDaFita[4] == \"11\":\n",
    "                                fita3.append(\"1\")\n",
    "                                i = i +1\n",
    "                            else:\n",
    "                                i = i- 1\n",
    "                        if instrucaoDaFita[3] == \"1\":\n",
    "                            fita3 = fita3 + \"0\"\n",
    "                            if instrucaoDaFita[4] == \"11\":\n",
    "                                fita3.append(\"0\")\n",
    "                                i = i +1\n",
    "                            else:\n",
    "                                i = i- 1\n",
    "                        if instrucaoDaFita[3] == \"111\":\n",
    "                            if instrucaoDaFita[4] == \"11\":\n",
    "                                fita3.append(\"B\")\n",
    "                                i = i +1\n",
    "                            else:\n",
    "                                if tradutorValor(instrucaoDaFita[1]) != \"B\":\n",
    "                                    fita3.pop()\n",
    "                                i = i- 1\n",
    "        else:\n",
    "            estado = tradutorEstado(instrucao[2])\n",
    "    resultadoUnario = \"\".join(fita3)\n",
    "    resultadoDecimal = conversordeUNParaDec(resultadoUnario)\n",
    "    print (bin(resultadoDecimal).replace(\"0b\", \"\"))\n",
    "\n",
    "#funções auxiliares\n",
    "def tradutorValor(texto):\n",
    "    if texto == \"1\":\n",
    "        return \"0\"\n",
    "    if texto == \"11\":\n",
    "        return \"1\"\n",
    "    if texto == \"111\":\n",
    "        return \"B\"\n",
    "def tradutorEstado(texto):\n",
    "        if texto == \"1\":\n",
    "            return 0\n",
    "        if texto == \"11\":\n",
    "            return 1\n",
    "        if texto == \"111\":\n",
    "            return 2\n",
    "        if texto == \"1111\":\n",
    "            return 3\n",
    "        if texto == \"11111\":\n",
    "            return 4\n",
    "        if texto == \"111111\":\n",
    "            return 5\n",
    "\n",
    "\n",
    "MTU()"
   ]
  },
  {
   "cell_type": "markdown",
   "id": "083f8d3d",
   "metadata": {},
   "source": [
    "Questão 6\n",
    "\n",
    "A) A Tese de Chuch-Turing valida que a solução de um problema é uma característica inerente do própio problema e não do sistema algorítmico que é usado para a solução, a tese também define que um algoritmo só é capaz de resolver um problema computável se uma Máquina de Turing puder resolver esse problema também.\n",
    "\n",
    "Para os problemas de Decisão: Haverá um algoritmo capaz de resolver um problema de decisão se, e somente se, houver uma Máquina de Turing que pare para todas as sequências de entrada e seja capaz de resolver o problema. Existem também problemas de Decisão com solução parcial, para esses problemas é retornado aceito para os válidos e rejeitado ou simplesmente sem resposta para os inválidos.\n",
    "\n",
    "Para os problemas de Reconhecimento: Dado um problema de decisão P, P será parcialmente solucionável se, e somente se, houver uma Máquina de Turing que consiga aceitar de forma precisa as intâncias de P em que a resposta é aceita. Isso fortalece a tese de Church-Turing em relação as funções computáveis.\n",
    "\n",
    "Para os problemas computáveis: Uma função f é efetivamente computável se, e somente se, houver uma Máquina de Turing capaz de calcular f.\n",
    "\n"
   ]
  },
  {
   "cell_type": "markdown",
   "id": "67e08882",
   "metadata": {},
   "source": [
    "B) É impossível responder, pois é um problema indecidível(problema da parada).\n",
    "\n",
    "Para provar isso, usaremos a prova por contradição.\n",
    "\n",
    "Suponha uma máquina H que aceite quando a máquina M aceita e rejeite quando a Máquina M rejeita. H recebe como entrada a máquina M, ou seja, a entrada de H será R(M).\n",
    "\n",
    "A máquina H com entrada R(M): Se M parar H aceita, Se M não parar H rejeita.\n",
    "\n",
    "Agora mudaremos H para H', H' linha continuará a computação quando H parar, ou seja, H' irá para a direita indefinidamente.\n",
    "\n",
    "A máquina H' com entrada R(M): Se M parar H' aceita, Se M não parar H' entra em loop.\n",
    "\n",
    "Nesse ponto da prova, H' será combinada com uma máquina COPY que faz cópia da entrada R(M) para ser parte da máquina D. A entrada de D será a representação de máquina de Turing R(M). Para  cálculo de D primeiro é feita a cópia da entrada R(M), gerando assim a cadeia R(M)R(M). A computação prossegue executando H' em R(M)R(M).\n",
    "\n",
    "A máquina D com entrada R(M): Se M parar D entra em loop, Se M não parar D para.\n",
    "\n",
    "Como a entrada de D pode ser a representação de qualquer máquina de Turing com alfabeto (0, 1, B) . Podemos usar o próprio D como entrada.\n",
    "\n",
    "A máquina D com entrada R(D): Se D parar então D entra em loop, Se D não parar então D para.\n",
    "\n",
    "Isso é um absurdo!\n"
   ]
  },
  {
   "cell_type": "markdown",
   "id": "d472f947",
   "metadata": {},
   "source": [
    "C) a)Uma solução é:\n",
    "\n",
    "a\ta\tbb <br>\n",
    "aa\tbb\tb"
   ]
  },
  {
   "cell_type": "markdown",
   "id": "7723b050",
   "metadata": {},
   "source": [
    "b)Uma solução é:\n",
    "\n",
    "a\tbba\tba<br>\n",
    "ab\tb\taba\t"
   ]
  },
  {
   "cell_type": "markdown",
   "id": "9c8cd1f5",
   "metadata": {},
   "source": [
    "c)Este sistema de correspondência Post não tem solução. É indecidível. Pois não é possível montar um solução inicial.\n",
    "\n",
    "abb\taba\taba\taab<br>\n",
    "ab\tba\tba\tabab\t"
   ]
  },
  {
   "cell_type": "markdown",
   "id": "69a59f6e",
   "metadata": {},
   "source": [
    "d)Este sistema de correspondência Post não tem solução. É indecidível.Pois não é possível montar um solução inicial.\n",
    "\n",
    "ab\taba\taba\t\t\t\n",
    "aba\tbaa\tbaa\t\t"
   ]
  },
  {
   "cell_type": "markdown",
   "id": "e31e5f47",
   "metadata": {},
   "source": [
    "e)Uma solução é:\n",
    "\n",
    "a    aab  abaa  a <br>\n",
    "aaa  b    ab    aaa"
   ]
  },
  {
   "cell_type": "markdown",
   "id": "112c5a6e",
   "metadata": {},
   "source": [
    "f)Este sistema de correspondência Post não tem solução. É indecidível.Pois não é possível montar um solução inicial.\n",
    "\n",
    "ab\tbb\tab\tbb\t\n",
    "abb\tbab\tbb\taba"
   ]
  },
  {
   "cell_type": "markdown",
   "id": "63ca336c",
   "metadata": {},
   "source": [
    "D) a)Uma função formada por recursivas primitivas é primitiva recursiva, logo, sempre que p e u forem recursivas primitivas a função será primitiva recursiva."
   ]
  },
  {
   "attachments": {
    "resposta.PNG": {
     "image/png": "[encoded data removed]"
    }
   },
   "cell_type": "markdown",
   "id": "33042c9b",
   "metadata": {},
   "source": [
    "b)![resposta.PNG](attachment:resposta.PNG)"
   ]
  }
 ],
 "metadata": {
  "kernelspec": {
   "display_name": "Python 3 (ipykernel)",
   "language": "python",
   "name": "python3"
  },
  "language_info": {
   "codemirror_mode": {
    "name": "ipython",
    "version": 3
   },
   "file_extension": ".py",
   "mimetype": "text/x-python",
   "name": "python",
   "nbconvert_exporter": "python",
   "pygments_lexer": "ipython3",
   "version": "3.9.7"
  }
 },
 "nbformat": 4,
 "nbformat_minor": 5
}
